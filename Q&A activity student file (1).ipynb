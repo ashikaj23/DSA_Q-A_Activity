{
 "cells": [
  {
   "cell_type": "markdown",
   "metadata": {},
   "source": [
    "## 1. Complete the following code to find the area of an equilateral triangle. Output should be as displayed"
   ]
  },
  {
   "cell_type": "code",
   "execution_count": 1,
   "metadata": {},
   "outputs": [
    {
     "name": "stdout",
     "output_type": "stream",
     "text": [
      "Enter the side of the equilateral triangle: 6\n",
      "Area of an equilateral triangle : 15.58846\n"
     ]
    }
   ],
   "source": [
    "import math\n",
    "side = float(input(\"Enter the side of the equilateral triangle: \"))\n",
    "area = ((math.sqrt(3))/4)*pow(side,2)\n",
    "print(\"Area of an equilateral triangle : %0.5f\" %area)\n"
   ]
  },
  {
   "cell_type": "markdown",
   "metadata": {},
   "source": [
    "## 2. Write a program to count the number of each characters in a string"
   ]
  },
  {
   "cell_type": "code",
   "execution_count": 2,
   "metadata": {},
   "outputs": [
    {
     "name": "stdout",
     "output_type": "stream",
     "text": [
      "Enter the String :dewdw whvxhgwaxswx\n",
      "The number of each characters in a string \n",
      "{'d': 2, 'e': 1, 'w': 5, 'h': 2, 'v': 1, 'x': 3, 'g': 1, 'a': 1, 's': 1}\n"
     ]
    }
   ],
   "source": [
    "String = input(\"Enter the String :\")\n",
    "char = {}\n",
    "\n",
    "for i in String:\n",
    "    char[i] = char.get(i,0)+1\n",
    "    \n",
    "char.pop(\" \")\n",
    "    \n",
    "print (\"The number of each characters in a string \\n\"+ str(char));\n"
   ]
  },
  {
   "cell_type": "markdown",
   "metadata": {},
   "source": [
    "## 3. Write a program to find the area and perimeter of a rectangle using functions"
   ]
  },
  {
   "cell_type": "code",
   "execution_count": 3,
   "metadata": {},
   "outputs": [
    {
     "name": "stdout",
     "output_type": "stream",
     "text": [
      "Enter the width of the rectangle: 4\n",
      "Enter the length of the rectangle: 5\n",
      "Perimeter of the rectangle : 18.00\n",
      "Area of the rectangle: 20.00\n"
     ]
    }
   ],
   "source": [
    "def Rectangle(width, length):\n",
    "    \n",
    "    Perimeter = 2*(width+length)\n",
    "    Area = width*length\n",
    "    \n",
    "    \n",
    "    print(\"Perimeter of the rectangle : %.2f\" %Perimeter)\n",
    "    print(\"Area of the rectangle: %.2f\" %Area)\n",
    "    \n",
    "width = float(input(\"Enter the width of the rectangle: \"))\n",
    "length = float(input(\"Enter the length of the rectangle: \"))\n",
    "    \n",
    "Rectangle(width, length)"
   ]
  },
  {
   "cell_type": "markdown",
   "metadata": {},
   "source": [
    "## 4. Write a program to print the fibonacci series till a specified number"
   ]
  },
  {
   "cell_type": "code",
   "execution_count": 4,
   "metadata": {},
   "outputs": [
    {
     "name": "stdout",
     "output_type": "stream",
     "text": [
      "Enter the Fibonacci till the specific number: 12\n",
      "0\n",
      "1\n",
      "1\n",
      "2\n",
      "3\n",
      "5\n",
      "8\n",
      "13\n",
      "21\n",
      "34\n",
      "55\n",
      "89\n"
     ]
    }
   ],
   "source": [
    "def fib(n):\n",
    "    \n",
    "    a=0\n",
    "    b=1\n",
    "    \n",
    "    if n==1:\n",
    "        print(a)\n",
    "    else:\n",
    "        print(a)\n",
    "        print(b)\n",
    "        for i in range(2, n):\n",
    "            c=a+b\n",
    "            a=b\n",
    "            b=c\n",
    "            print(c)\n",
    "n= int(input(\"Enter the Fibonacci till the specific number: \" ))           \n",
    "fib(n)"
   ]
  },
  {
   "cell_type": "markdown",
   "metadata": {},
   "source": [
    "## 5. Complete the following code to find the minimum of 3 number using conditional statements. Output should be as displayed"
   ]
  },
  {
   "cell_type": "code",
   "execution_count": 6,
   "metadata": {},
   "outputs": [
    {
     "name": "stdout",
     "output_type": "stream",
     "text": [
      "Enter three numbers followed by  : 23 42 -2\n",
      "First number : 23\n",
      "Second number : 42\n",
      "Third number : -2\n",
      "-2 is the smallest\n"
     ]
    }
   ],
   "source": [
    "a,b,c = input(\"Enter three numbers followed by  : \").split()\n",
    "\n",
    "print(\"First number :\",a)\n",
    "print(\"Second number :\",b)\n",
    "print(\"Third number :\",c)\n",
    "\n",
    "if a<=b and a<=c:\n",
    "    print(a, \"is the smallest\")\n",
    "    \n",
    "elif b<=a and b<=c:\n",
    "    print(b, \"is the smallest\")\n",
    "    \n",
    "else:\n",
    "    print(c, \"is the smallest\")"
   ]
  },
  {
   "cell_type": "markdown",
   "metadata": {},
   "source": [
    "## 6. Write a program to print star pyramind. The number of rows should be taken as input from the user"
   ]
  },
  {
   "cell_type": "code",
   "execution_count": 7,
   "metadata": {},
   "outputs": [
    {
     "name": "stdout",
     "output_type": "stream",
     "text": [
      "Enter the no of row: 8\n",
      "*\n",
      "**\n",
      "***\n",
      "****\n",
      "*****\n",
      "******\n",
      "*******\n",
      "********\n"
     ]
    }
   ],
   "source": [
    "n= int(input(\"Enter the no of row: \"))\n",
    "\n",
    "for i in range(0, n):\n",
    "   \n",
    "    for j in range(0,i+1):\n",
    "        print(\"*\" , end=(\"\"))\n",
    "    print()"
   ]
  },
  {
   "cell_type": "markdown",
   "metadata": {},
   "source": [
    "## 7. Complete the following code to convert hour into seconds. Output should be as displayed"
   ]
  },
  {
   "cell_type": "code",
   "execution_count": 9,
   "metadata": {},
   "outputs": [
    {
     "name": "stdout",
     "output_type": "stream",
     "text": [
      "Enter time in Hours : 24\n",
      "24 Hour is equal to 86400 Seconds\n"
     ]
    }
   ],
   "source": [
    "def time(hour):\n",
    "    seconds = hour*(60**2)\n",
    "    print(hour,\"Hour is equal to\",seconds,\"Seconds\")\n",
    "    \n",
    "hour=int(input(\"Enter time in Hours : \"))\n",
    "time(hour)"
   ]
  },
  {
   "cell_type": "markdown",
   "metadata": {},
   "source": [
    "## 8. Write a program to print multiplication table as below"
   ]
  },
  {
   "cell_type": "code",
   "execution_count": 10,
   "metadata": {},
   "outputs": [
    {
     "name": "stdout",
     "output_type": "stream",
     "text": [
      "Enter a number to find the multiplication table: 67\n",
      "1 x 67 = 67\n",
      "2 x 67 = 134\n",
      "3 x 67 = 201\n",
      "4 x 67 = 268\n",
      "5 x 67 = 335\n",
      "6 x 67 = 402\n",
      "7 x 67 = 469\n",
      "8 x 67 = 536\n",
      "9 x 67 = 603\n",
      "10 x 67 = 670\n"
     ]
    }
   ],
   "source": [
    "table = int(input('Enter a number to find the multiplication table: '))\n",
    "\n",
    "for i in range(1,11):\n",
    "    m= i*table\n",
    "    print(i,'x',table,'=',m)"
   ]
  },
  {
   "cell_type": "markdown",
   "metadata": {},
   "source": [
    "## 9. Write a program to take your 5 favorite food as list and print each as 'I like Biriyani'"
   ]
  },
  {
   "cell_type": "code",
   "execution_count": 12,
   "metadata": {},
   "outputs": [
    {
     "name": "stdout",
     "output_type": "stream",
     "text": [
      "enter the name of favorite food: Biriyani\n",
      "I like Biriyani\n",
      "enter the name of favorite food: Kappa\n",
      "I like Kappa\n",
      "enter the name of favorite food: Chakka\n",
      "I like Chakka\n",
      "enter the name of favorite food: Pizza\n",
      "I like Pizza\n",
      "enter the name of favorite food: Burger\n",
      "I like Burger\n",
      "My 5 favirote food are  ['Biriyani', 'Kappa', 'Chakka', 'Pizza', 'Burger']\n"
     ]
    }
   ],
   "source": [
    "list1=[]\n",
    "\n",
    "n=5\n",
    "\n",
    "for i in range(0, n):\n",
    "    elm = input('enter the name of favorite food: ')\n",
    "    list1.append(elm)\n",
    "    \n",
    "    print('I like {}'.format(elm))\n",
    "print('My 5 favirote food are ', list1)"
   ]
  },
  {
   "cell_type": "code",
   "execution_count": null,
   "metadata": {},
   "outputs": [],
   "source": []
  }
 ],
 "metadata": {
  "kernelspec": {
   "display_name": "Python 3 (ipykernel)",
   "language": "python",
   "name": "python3"
  },
  "language_info": {
   "codemirror_mode": {
    "name": "ipython",
    "version": 3
   },
   "file_extension": ".py",
   "mimetype": "text/x-python",
   "name": "python",
   "nbconvert_exporter": "python",
   "pygments_lexer": "ipython3",
   "version": "3.9.7"
  }
 },
 "nbformat": 4,
 "nbformat_minor": 4
}
